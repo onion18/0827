{
 "cells": [
  {
   "cell_type": "markdown",
   "metadata": {},
   "source": [
    "--- \n",
    "\n",
    "\n",
    "# Replication of Joshua D. Angrist, Erich Battistin, and Daniela Vuri  (2017) <a class=\"tocSkip\">   \n",
    "---"
   ]
  },
  {
   "cell_type": "markdown",
   "metadata": {},
   "source": [
    "This file is the modification of (https://github.com/FedericoAlexanderRizzuto). I don't get permission of revising and reusing from the author,so **please do not redistribute this file**."
   ]
  },
  {
   "cell_type": "markdown",
   "metadata": {},
   "source": [
    "This notebook contains introduction of the replication from the following paper:\n",
    "\n",
    "> Angrist, J. D., Battistin, E., and Vuri, D. (2017). In a small moment: Class size and moral hazard in the Italian Mezzogiorno. _American Economic Journal: Applied Economics, 9(4)_, 216-49.\n",
    "\n",
    "The original paper, data, and code can be accessed [here](https://www.aeaweb.org/articles?id=10.1257/app.20160267).\n",
    "\n",
    "\n",
    "\n",
    "##### Information :\n",
    "* Almost all files are the same as [the original repository](https://www.openicpsr.org/openicpsr/project/113698/version/V1/view) other than following two points.\n",
    "    * I converted the dta file into a CSV file and added \"paper.pdf\"(original paper) and ”appendix.pdf\"\n",
    "    * The explanation of the variable is included in varlabel.txt (This file was originally included in dta file)\n",
    "* As for the other files, please read \"Readme.pdf\"\n",
    "\n",
    "##### Notice :\n",
    "\n",
    "* The authors may provide two datasets that differ by the unit of observation, namely the class or the individual student.\n",
    "    * However, I cannot find the latter dataset (2023/8/24)\n",
    "    * The analysis is carried out at the class level and the latter dataset is solely used to produce Figure 7,\n",
    "    * **So, please skip Figure 7 when you try to replicate.**\n",
    "* And **please replicate Figure 1 later**\n",
    "    * because the author did not provide the replication code for this figure \n",
    "* I found Table 1 to be partly incorrect, so please dismiss minor differences.\n"
   ]
  },
  {
   "cell_type": "markdown",
   "metadata": {
    "toc": true
   },
   "source": [
    "<h1>Table of Contents<span class=\"tocSkip\"></span></h1>\n",
    "<div class=\"toc\"><ul class=\"toc-item\"><li><span><a href=\"#1.-Introduction\" data-toc-modified-id=\"1.-Introduction-1\">1. Introduction</a></span></li><li><span><a href=\"#2.-Identification-Strategy\" data-toc-modified-id=\"2.-Identification-Strategy-2\">2. Identification Strategy</a></span></li><li><span><a href=\"#3.-Empirical-Strategy\" data-toc-modified-id=\"3.-Empirical-Strategy-3\">3. Empirical Strategy</a></span></li></ul></div>"
   ]
  },
  {
   "cell_type": "markdown",
   "metadata": {},
   "source": [
    "---\n",
    "# 1. Introduction \n",
    "---"
   ]
  },
  {
   "cell_type": "markdown",
   "metadata": {},
   "source": [
    "- The relationship between class size and student achievement has long been at the center of public and academic discussions on educational policy. \n",
    "    - This is the case in japan (If you are interested in, please see following materials).\n",
    "        - [赤林英夫(2020)　「ヒューモニー特別連載4\n",
    "第1回 コスパが疑問な“少人数学級”」](https://humonyinter.com/column/eco/edu2-01/)\n",
    "        - [北條雅一(2023)『少人数学級の経済学』慶応大学出版会](https://www.kinokuniya.co.jp/f/dsg-01-9784766428889)\n",
    "    - Reducing class size has sizable positive effects on student achievement is a widely held belief among families, teachers, and educationalists.\n",
    "    \n",
    "    \n",
    "\n",
    "- Social scientists have devoted their attention to the topic as well, attempting to quantify potential gains from smaller classes. \n",
    "\n",
    "    - the evidence provides some support to the view that smaller classes enhance student performance, although the benefits appear to be small and concentrated at an early stage of education.\n",
    "\n",
    "\n",
    "\n",
    "- Angrist, Battistin, and Vuri (2017) add to the literature by investigating the implications of test score manipulation for the CSR research using data on INVALSI tests, yearly standardized tests covering mathematics and Italian language skills and administered to certain grades of all Italian schools.\n",
    "    - Based on Angrist and Lavy (1999), the authors first employ a **parametric fuzzy regression discontinuity (RD) design** that exploits mandatory class-size caps to estimate the effect of smaller classes on student achievement for second and fifth-graders, then examine the role of score manipulation in explaining the substantial gap in estimates of class-size effects between Southern Italy and the rest of the country. In fact, it appears that teachers in the South have engaged to a greater extent in shirking when correcting and transcribing the results of the paper-based tests. The final model, which is augmented with an **instrumental variable** for score manipulation, finds that class-size effects vanish. The main contribution of this paper lies in illustrating how in certain test settings smaller classes can incentivize test score manipulation and thereby drive estimates of class-size effects."
   ]
  },
  {
   "cell_type": "markdown",
   "metadata": {},
   "source": [
    "---\n",
    "# 2. Identification Strategy\n",
    "---"
   ]
  },
  {
   "cell_type": "markdown",
   "metadata": {},
   "source": [
    "- Researchers attempting to capture the causal effect of class size (the treatment variable) on student achievement (the outcome variable) are confronted with well-known issues of identification.\n",
    "\n",
    "\n",
    "- Given that treatment is not randomly assigned, pupils attending smaller classes can be expected to differ in meaningful ways\n",
    "    - it is not readily apparent whether the **selection bias** should be expected to be positive or negative. \n",
    "        - For example, if educational investment in one's child is a positive function of income, better-off families may actively seek out schools with smaller classes and wealthier communities may invest in and/or lobby for CSR interventions. \n",
    "        - At the same time, smaller classes may be more frequent in the less densely populated rural areas, which tend to be poorer.    \n",
    "        \n",
    "    - It does not suffice to condition on the observable characteristics of the students.\n",
    "        - there is no assure the factors determining selection are all observed by the researcher\n",
    "        \n",
    "        \n",
    "- Test scores (the outcome variable $Y$) are affected by class size (the treatment variable of interest $D_1$) and observables $W$ like parental education, or immigrant status, but also by unobservables $U_1$, e.g. innate ability, neighborhood or school management.\n",
    "\n",
    "- While both $W$ and $U_1$ may have a causal effect on selection into treatment $D_1$ *and* the outcome $Y$, only the backdoor path $D_1 \\leftarrow W \\rightarrow Y$ can be blocked since it is impossible to condition on unobservables.\n",
    "    - Fortunately, agents have imperfect control over the treatment variable $D_1$.\n",
    "        - In fact, while families apply to the school of their choice in February, the composition of classes is unknown until shortly before the school start in September, at which point reassignments are difficult and need to be authorized. \n",
    "        - In addition, funding and most organizational aspects, especially when it comes to primary education, depend on the central government. Therefore, treatment is not at the full discretion of the school staff either. \n",
    "    \n",
    "    \n",
    "    \n",
    "- The nation-wide class-size minima and maxima result in what Angrist and Lavy called **Maimonides' Rule**, which predicts class size to be a nonlinear and discontinuous function of grade enrollment (see Figures 2 and 3 below). This provides **a credible source of exogenous variation needed to deal with the selection bias and the nonlinear nature of the function allows to apply the fuzzy RD design.** \n",
    "    - As shown in Figure2 and 3, $D_1$ can be instrumented by the class size predicted by Maimonides' Rule $Z_1$, which in turn is a function of grade enrollment (the running variable $X$). Note that $Z_1$ is assumed to be a conditional IV, meaning that the running variable $X$ might affect the outcome $Y$ and needs to be conditioned on.\n",
    "\n",
    "\n",
    "- However, Angrist et al. uncover another problematic causal nexus, namely test score manipulation by teachers (the second treatment variable $D_2$) being related to class size. \n",
    "    - In particular, class size $D_1$ tends to have a negative effect on $D_2$ because in larger classes it is more likely that tests are corrected and the results are transcribed by more than one teacher. Because it cannot be assumed that $Y$ and $D_2$ are not driven by common unobservables, as suggested by the fact that the varying nature of manipulation patterns across regions cannot be accounted for, the back-door path ($D_1 \\rightarrow D_2 \\rightarrow Y$) cannot be closed by conditioning on score manipulation $D_2$.\n",
    "    - Therefore, **another source of exogenous variation is needed to identify the effect of $D_2$ on $Y$.**\n",
    "    - Since **monitors** are shown to deter manipulation and are **randomly assigned** by the INVALSI institute, their presence at the institution $Z_2$ can be used as an instrument for $D_2$. "
   ]
  },
  {
   "cell_type": "markdown",
   "metadata": {},
   "source": [
    "**Figure E1: Causal Graph**\n",
    "![ERROR: Here causal_graph should be displayed](./causal_graph.JPG)\n",
    "\n"
   ]
  },
  {
   "cell_type": "markdown",
   "metadata": {},
   "source": [
    "In short, Maimonides' Rule $Z_1$ represents a valid instrumental variable because it arguably affects the outcome variable $Y$ only through $D_1$ once the back-door path $Z_1 \\leftarrow X \\rightarrow Y$ is closed by conditioning on grade enrollment $X$; monitoring is a valid IV because random assignment guarantees it to cause $Y$ only via $D_2$. By simultaneously instrumenting $D_1$ and $D_2$ while conditioning on $W$ and $X$, the effect of class size on test scores is finally identified."
   ]
  },
  {
   "cell_type": "markdown",
   "metadata": {},
   "source": [
    "---\n",
    "# 3. Empirical Strategy\n",
    "---"
   ]
  },
  {
   "cell_type": "markdown",
   "metadata": {},
   "source": [
    "The starting point for implementing the identification strategy outlined above is the following equation:\n",
    "\n",
    "$\\qquad (2) \\qquad \\qquad y_{igkt} = \\rho_0(t,g) + \\beta s_{igkt} + \\rho_1 r_{gkt} + \\rho_2 r^2_{gkt} + \\epsilon_{igkt} $\n",
    "\n",
    "where $y_{igkt}$, the standardized math or Italian language test score for class $i$ in grade $g$ at school $k$ in year $t$, is estimated as a second-order polynomial function of year and grade controls $\\rho_0(t,g)$, class size divided by ten $s_{igkt}$ and grade enrollment $r_{gkt}$. The quadratic running variable allows to exploit the nonlinearity of the Maimonides' Rule:\n",
    "\n",
    "$\\qquad (1) \\qquad \\qquad f_{igkt} = \\frac{r_{gkt}}{int(r_{gkt}-1)/c_{gt}+1} $\n",
    "\n",
    "where $f_{igkt}$, the predicted size of class $i$, is a function of grade enrollment and of the relevant maximum number of students per class $c_{gt}$ (25 or 27, respectively for classes unaffected and affected by the 2009 reform). In fact, after a benchmark OLS estimation of equation $\\text{(2)}$, $s_{igkt}$ is instrumented by $f_{igkt}$. The following table summarizes the set of controls $\\rho_0(t,g)$:\n",
    "\n",
    "|                      **Observables**                                  ||\n",
    "|------------------------------------|-----------------------------------|\n",
    "| Female                             | Nonresponses - Female             |\n",
    "| Immigrant                          | Nonresponses - Immigrant          |\n",
    "| Father high school dropout         | Father high school graduate       |\n",
    "| Father college graduate            | Mother employed                   |\n",
    "| Mother homemaker                   | Mother unemployed                 |\n",
    "| Nonresponses - Mothers' education  | Region dummy                      | \n",
    "| Year dummy                         | Grade dummy                       |\n",
    "| Reform dummy                       | Region-enrollment interaction term|\n",
    "\n",
    "\n",
    "To partially account for misreporting, item nonresponses (the percentage of students in a class for which data is missing) are included as observables. The nonresponse variables on fathers' education and mothers' occupation were dropped due to collinearity issues. The reform dummy reflects whether the class was subject to $c_{gt}$ equal to 25 or 27. It should be noted that the data related to the demographic and socioeconomic background of pupils are reported by the school staff, while the other controls are administrative in nature or collected by the INVALSI institute. This distinction will be relevant when discussing misreporting. As the relationship of grade enrollment with the endogenous and the outcome variables is influenced by geographical factors (see Figures 4 to 6), equation $(2)$ is then augmented by adding the polynomial interaction between the running variable and the region dummy and other terms that allow the quadratic function to change over enrollment-windows (the \"interacted model\"). Table 2 reports the 2SLS estimates for this model in addition to the OLS and 2SLS estimates of equation $(2)$. \n",
    "\n",
    "Motivated by the finding of particularly high class-size effects in the South, Angrist et al. include a second endogenous variable in the model, namely the cheating dummy $m_{igtk}$. Using a second larger dataset (the unit of observation is the student), the authors have constructed a dummy that flags classes with abnormally high scores, low variance, and suspicious patterns, i.e. classes where teachers likely have manipulated the outcome variable. As discussed above, this second treatment variable is instrumented by the presence of monitors at the institution $M_{igkt}$. Thus, equation $(2)$ becomes:\n",
    "\n",
    "$\\qquad (4) \\qquad \\qquad y_{igkt} = \\rho_0(t,g) + \\beta_1 s_{igkt} + \\beta_2 m_{igtk} + \\rho_1 r_{gkt} + \\rho_2 r^2_{gkt} + \\eta_{igkt} $\n",
    "\n",
    "with the first-stage regressions being:\n",
    "\n",
    "$\\qquad (5) \\qquad \\qquad s_{igkt} = \\lambda_{10}(t,g) + \\mu_{11} f_{igkt} + \\mu_{12} M_{igtk} + \\lambda_{11} r_{gkt} + \\lambda_{12} r^2_{gkt} + \\xi_{ik} $\n",
    "\n",
    "$\\qquad (6) \\qquad \\qquad m_{igkt} = \\lambda_{20}(t,g) + \\mu_{21} f_{igkt} + \\mu_{22} M_{igtk} + \\lambda_{21} r_{gkt} + \\lambda_{22} r^2_{gkt} + v_{ik} $\n",
    "\n",
    "Estimates for equation $(4)$ are found in Table 8, while those for the first stage are presented in Table 7. The table below summarizes the key elements of the final model. The causal effect of the endogenous variables $s_{igkt}$ and $m_{igkt}$ on math and language scores $y_{igkt}$ is recovered by instrumenting them by the presence of monitors $M_{igtk}$ and the predicted class size $f_{igkt}$, which is a function of the running variable $r_{gkt}$.\n",
    "\n",
    "\n",
    "| **Main Outcome**       | **Treatments**               | **Instruments**                        | **Assignment Variable**             |\n",
    "|------------------------|------------------------------|----------------------------------------|-------------------------------------|\n",
    "| Test scores $y_{igkt}$ | Class size $s_{igkt}$        | Maimonides rule $f_{igkt}$             | Grade enrollment at school $r_{gkt}$|\n",
    "| .                      | Score manipulation $m_{igkt}$| Monitors at the institution $M_{igtk}$ | .                                   |  "
   ]
  }
 ],
 "metadata": {
  "kernelspec": {
   "display_name": "Python 3",
   "language": "python",
   "name": "python3"
  },
  "language_info": {
   "codemirror_mode": {
    "name": "ipython",
    "version": 3
   },
   "file_extension": ".py",
   "mimetype": "text/x-python",
   "name": "python",
   "nbconvert_exporter": "python",
   "pygments_lexer": "ipython3",
   "version": "3.7.9"
  },
  "toc": {
   "base_numbering": 1,
   "nav_menu": {
    "height": "46px",
    "width": "192px"
   },
   "number_sections": false,
   "sideBar": false,
   "skip_h1_title": false,
   "title_cell": "Table of Contents",
   "title_sidebar": "Contents",
   "toc_cell": true,
   "toc_position": {
    "height": "401.169px",
    "left": "68px",
    "top": "110px",
    "width": "595.313px"
   },
   "toc_section_display": false,
   "toc_window_display": true
  }
 },
 "nbformat": 4,
 "nbformat_minor": 4
}
